{
  "metadata": {
    "kernelspec": {
      "language": "python",
      "display_name": "Python 3",
      "name": "python3"
    },
    "language_info": {
      "name": "python",
      "version": "3.11.13",
      "mimetype": "text/x-python",
      "codemirror_mode": {
        "name": "ipython",
        "version": 3
      },
      "pygments_lexer": "ipython3",
      "nbconvert_exporter": "python",
      "file_extension": ".py"
    },
    "kaggle": {
      "accelerator": "none",
      "dataSources": [
        {
          "sourceId": 8204,
          "sourceType": "datasetVersion",
          "datasetId": 4458
        }
      ],
      "dockerImageVersionId": 31089,
      "isInternetEnabled": false,
      "language": "python",
      "sourceType": "notebook",
      "isGpuEnabled": false
    },
    "colab": {
      "name": "indabax_session1",
      "provenance": [],
      "include_colab_link": true
    }
  },
  "nbformat_minor": 0,
  "nbformat": 4,
  "cells": [
    {
      "cell_type": "markdown",
      "metadata": {
        "id": "view-in-github",
        "colab_type": "text"
      },
      "source": [
        "<a href=\"https://colab.research.google.com/github/jacksonjkk/website1/blob/main/indabax_session1.ipynb\" target=\"_parent\"><img src=\"https://colab.research.google.com/assets/colab-badge.svg\" alt=\"Open In Colab\"/></a>"
      ]
    },
    {
      "source": [
        "# IMPORTANT: RUN THIS CELL IN ORDER TO IMPORT YOUR KAGGLE DATA SOURCES,\n",
        "# THEN FEEL FREE TO DELETE THIS CELL.\n",
        "# NOTE: THIS NOTEBOOK ENVIRONMENT DIFFERS FROM KAGGLE'S PYTHON\n",
        "# ENVIRONMENT SO THERE MAY BE MISSING LIBRARIES USED BY YOUR\n",
        "# NOTEBOOK.\n",
        "import kagglehub\n",
        "uciml_red_wine_quality_cortez_et_al_2009_path = kagglehub.dataset_download('uciml/red-wine-quality-cortez-et-al-2009')\n",
        "\n",
        "print('Data source import complete.')\n"
      ],
      "metadata": {
        "id": "VYjoPmt8FTgW"
      },
      "cell_type": "code",
      "outputs": [],
      "execution_count": null
    },
    {
      "cell_type": "code",
      "source": [
        "# This Python 3 environment comes with many helpful analytics libraries installed\n",
        "# It is defined by the kaggle/python Docker image: https://github.com/kaggle/docker-python\n",
        "# For example, here's several helpful packages to load\n",
        "\n",
        "import numpy as np # linear algebra\n",
        "import pandas as pd # data processing, CSV file I/O (e.g. pd.read_csv)\n",
        "\n",
        "# Input data files are available in the read-only \"../input/\" directory\n",
        "# For example, running this (by clicking run or pressing Shift+Enter) will list all files under the input directory\n",
        "\n",
        "import os\n",
        "for dirname, _, filenames in os.walk('/kaggle/input'):\n",
        "    for filename in filenames:\n",
        "        print(os.path.join(dirname, filename))\n",
        "\n",
        "# You can write up to 20GB to the current directory (/kaggle/working/) that gets preserved as output when you create a version using \"Save & Run All\"\n",
        "# You can also write temporary files to /kaggle/temp/, but they won't be saved outside of the current session"
      ],
      "metadata": {
        "_uuid": "8f2839f25d086af736a60e9eeb907d3b93b6e0e5",
        "_cell_guid": "b1076dfc-b9ad-4769-8c92-a6c4dae69d19",
        "trusted": true,
        "execution": {
          "iopub.status.busy": "2025-10-01T13:03:28.729456Z",
          "iopub.execute_input": "2025-10-01T13:03:28.729694Z",
          "iopub.status.idle": "2025-10-01T13:03:30.004273Z",
          "shell.execute_reply.started": "2025-10-01T13:03:28.729672Z",
          "shell.execute_reply": "2025-10-01T13:03:30.003394Z"
        },
        "id": "LqU4aotiFTgg",
        "outputId": "427148a7-a37e-4339-9411-e074495a7dcd"
      },
      "outputs": [
        {
          "name": "stdout",
          "text": "/kaggle/input/red-wine-quality-cortez-et-al-2009/winequality-red.csv\n",
          "output_type": "stream"
        }
      ],
      "execution_count": null
    },
    {
      "cell_type": "code",
      "source": [
        "import pandas #tabled data\n",
        "import numpy\n",
        "import matplotlib.pyplot as plt"
      ],
      "metadata": {
        "trusted": true,
        "execution": {
          "iopub.status.busy": "2025-10-01T13:06:49.708385Z",
          "iopub.execute_input": "2025-10-01T13:06:49.708655Z",
          "iopub.status.idle": "2025-10-01T13:06:49.71339Z",
          "shell.execute_reply.started": "2025-10-01T13:06:49.708635Z",
          "shell.execute_reply": "2025-10-01T13:06:49.712135Z"
        },
        "id": "kqgoBMp4FTgl"
      },
      "outputs": [],
      "execution_count": null
    },
    {
      "cell_type": "code",
      "source": [
        "wine = pd.read_csv(\"/kaggle/input/red-wine-quality-cortez-et-al-2009/winequality-red.csv\")"
      ],
      "metadata": {
        "trusted": true,
        "execution": {
          "iopub.status.busy": "2025-10-01T13:09:08.477336Z",
          "iopub.execute_input": "2025-10-01T13:09:08.478128Z",
          "iopub.status.idle": "2025-10-01T13:09:08.514088Z",
          "shell.execute_reply.started": "2025-10-01T13:09:08.478092Z",
          "shell.execute_reply": "2025-10-01T13:09:08.513148Z"
        },
        "id": "vbla7LzBFTgm"
      },
      "outputs": [],
      "execution_count": null
    },
    {
      "cell_type": "code",
      "source": [
        "wine.head()#print the first five(by default) rows in wine table"
      ],
      "metadata": {
        "trusted": true,
        "execution": {
          "iopub.status.busy": "2025-10-01T13:14:57.460271Z",
          "iopub.execute_input": "2025-10-01T13:14:57.460537Z",
          "iopub.status.idle": "2025-10-01T13:14:57.47572Z",
          "shell.execute_reply.started": "2025-10-01T13:14:57.460517Z",
          "shell.execute_reply": "2025-10-01T13:14:57.474956Z"
        },
        "id": "JjUXHtY5FTgo",
        "outputId": "4ccd7761-ed3b-43c9-a7a4-cc7986dc8999"
      },
      "outputs": [
        {
          "execution_count": 8,
          "output_type": "execute_result",
          "data": {
            "text/plain": "   fixed acidity  volatile acidity  citric acid  residual sugar  chlorides  \\\n0            7.4              0.70         0.00             1.9      0.076   \n1            7.8              0.88         0.00             2.6      0.098   \n2            7.8              0.76         0.04             2.3      0.092   \n3           11.2              0.28         0.56             1.9      0.075   \n4            7.4              0.70         0.00             1.9      0.076   \n\n   free sulfur dioxide  total sulfur dioxide  density    pH  sulphates  \\\n0                 11.0                  34.0   0.9978  3.51       0.56   \n1                 25.0                  67.0   0.9968  3.20       0.68   \n2                 15.0                  54.0   0.9970  3.26       0.65   \n3                 17.0                  60.0   0.9980  3.16       0.58   \n4                 11.0                  34.0   0.9978  3.51       0.56   \n\n   alcohol  quality  \n0      9.4        5  \n1      9.8        5  \n2      9.8        5  \n3      9.8        6  \n4      9.4        5  ",
            "text/html": "<div>\n<style scoped>\n    .dataframe tbody tr th:only-of-type {\n        vertical-align: middle;\n    }\n\n    .dataframe tbody tr th {\n        vertical-align: top;\n    }\n\n    .dataframe thead th {\n        text-align: right;\n    }\n</style>\n<table border=\"1\" class=\"dataframe\">\n  <thead>\n    <tr style=\"text-align: right;\">\n      <th></th>\n      <th>fixed acidity</th>\n      <th>volatile acidity</th>\n      <th>citric acid</th>\n      <th>residual sugar</th>\n      <th>chlorides</th>\n      <th>free sulfur dioxide</th>\n      <th>total sulfur dioxide</th>\n      <th>density</th>\n      <th>pH</th>\n      <th>sulphates</th>\n      <th>alcohol</th>\n      <th>quality</th>\n    </tr>\n  </thead>\n  <tbody>\n    <tr>\n      <th>0</th>\n      <td>7.4</td>\n      <td>0.70</td>\n      <td>0.00</td>\n      <td>1.9</td>\n      <td>0.076</td>\n      <td>11.0</td>\n      <td>34.0</td>\n      <td>0.9978</td>\n      <td>3.51</td>\n      <td>0.56</td>\n      <td>9.4</td>\n      <td>5</td>\n    </tr>\n    <tr>\n      <th>1</th>\n      <td>7.8</td>\n      <td>0.88</td>\n      <td>0.00</td>\n      <td>2.6</td>\n      <td>0.098</td>\n      <td>25.0</td>\n      <td>67.0</td>\n      <td>0.9968</td>\n      <td>3.20</td>\n      <td>0.68</td>\n      <td>9.8</td>\n      <td>5</td>\n    </tr>\n    <tr>\n      <th>2</th>\n      <td>7.8</td>\n      <td>0.76</td>\n      <td>0.04</td>\n      <td>2.3</td>\n      <td>0.092</td>\n      <td>15.0</td>\n      <td>54.0</td>\n      <td>0.9970</td>\n      <td>3.26</td>\n      <td>0.65</td>\n      <td>9.8</td>\n      <td>5</td>\n    </tr>\n    <tr>\n      <th>3</th>\n      <td>11.2</td>\n      <td>0.28</td>\n      <td>0.56</td>\n      <td>1.9</td>\n      <td>0.075</td>\n      <td>17.0</td>\n      <td>60.0</td>\n      <td>0.9980</td>\n      <td>3.16</td>\n      <td>0.58</td>\n      <td>9.8</td>\n      <td>6</td>\n    </tr>\n    <tr>\n      <th>4</th>\n      <td>7.4</td>\n      <td>0.70</td>\n      <td>0.00</td>\n      <td>1.9</td>\n      <td>0.076</td>\n      <td>11.0</td>\n      <td>34.0</td>\n      <td>0.9978</td>\n      <td>3.51</td>\n      <td>0.56</td>\n      <td>9.4</td>\n      <td>5</td>\n    </tr>\n  </tbody>\n</table>\n</div>"
          },
          "metadata": {}
        }
      ],
      "execution_count": null
    },
    {
      "cell_type": "code",
      "source": [
        "wine.shape #how many instances in the dataset(r,c)"
      ],
      "metadata": {
        "trusted": true,
        "execution": {
          "iopub.status.busy": "2025-10-01T13:15:53.057173Z",
          "iopub.execute_input": "2025-10-01T13:15:53.057447Z",
          "iopub.status.idle": "2025-10-01T13:15:53.064566Z",
          "shell.execute_reply.started": "2025-10-01T13:15:53.057426Z",
          "shell.execute_reply": "2025-10-01T13:15:53.063369Z"
        },
        "id": "iiM808VXFTgp",
        "outputId": "5050a81a-0c94-4296-9cbb-29d30560b8bd"
      },
      "outputs": [
        {
          "execution_count": 10,
          "output_type": "execute_result",
          "data": {
            "text/plain": "(1599, 12)"
          },
          "metadata": {}
        }
      ],
      "execution_count": null
    },
    {
      "cell_type": "code",
      "source": [
        "wine.info()#info baout the dataset"
      ],
      "metadata": {
        "trusted": true,
        "execution": {
          "iopub.status.busy": "2025-10-01T13:17:02.937974Z",
          "iopub.execute_input": "2025-10-01T13:17:02.938603Z",
          "iopub.status.idle": "2025-10-01T13:17:02.96129Z",
          "shell.execute_reply.started": "2025-10-01T13:17:02.938571Z",
          "shell.execute_reply": "2025-10-01T13:17:02.960171Z"
        },
        "id": "sN2Y2yJgFTgq",
        "outputId": "905c10f4-2fdf-4bec-8dd6-ae54807f3765"
      },
      "outputs": [
        {
          "name": "stdout",
          "text": "<class 'pandas.core.frame.DataFrame'>\nRangeIndex: 1599 entries, 0 to 1598\nData columns (total 12 columns):\n #   Column                Non-Null Count  Dtype  \n---  ------                --------------  -----  \n 0   fixed acidity         1599 non-null   float64\n 1   volatile acidity      1599 non-null   float64\n 2   citric acid           1599 non-null   float64\n 3   residual sugar        1599 non-null   float64\n 4   chlorides             1599 non-null   float64\n 5   free sulfur dioxide   1599 non-null   float64\n 6   total sulfur dioxide  1599 non-null   float64\n 7   density               1599 non-null   float64\n 8   pH                    1599 non-null   float64\n 9   sulphates             1599 non-null   float64\n 10  alcohol               1599 non-null   float64\n 11  quality               1599 non-null   int64  \ndtypes: float64(11), int64(1)\nmemory usage: 150.0 KB\n",
          "output_type": "stream"
        }
      ],
      "execution_count": null
    },
    {
      "cell_type": "code",
      "source": [
        "X = wine.drop('quality' , axis =1) #removing quality as tagret\n",
        "X.head()"
      ],
      "metadata": {
        "trusted": true,
        "execution": {
          "iopub.status.busy": "2025-10-01T13:20:07.918141Z",
          "iopub.execute_input": "2025-10-01T13:20:07.918402Z",
          "iopub.status.idle": "2025-10-01T13:20:07.934143Z",
          "shell.execute_reply.started": "2025-10-01T13:20:07.918384Z",
          "shell.execute_reply": "2025-10-01T13:20:07.933278Z"
        },
        "id": "xtdQovaSFTgr",
        "outputId": "641ac60d-4fe7-4175-938c-41c13b18730b"
      },
      "outputs": [
        {
          "execution_count": 14,
          "output_type": "execute_result",
          "data": {
            "text/plain": "   fixed acidity  volatile acidity  citric acid  residual sugar  chlorides  \\\n0            7.4              0.70         0.00             1.9      0.076   \n1            7.8              0.88         0.00             2.6      0.098   \n2            7.8              0.76         0.04             2.3      0.092   \n3           11.2              0.28         0.56             1.9      0.075   \n4            7.4              0.70         0.00             1.9      0.076   \n\n   free sulfur dioxide  total sulfur dioxide  density    pH  sulphates  \\\n0                 11.0                  34.0   0.9978  3.51       0.56   \n1                 25.0                  67.0   0.9968  3.20       0.68   \n2                 15.0                  54.0   0.9970  3.26       0.65   \n3                 17.0                  60.0   0.9980  3.16       0.58   \n4                 11.0                  34.0   0.9978  3.51       0.56   \n\n   alcohol  \n0      9.4  \n1      9.8  \n2      9.8  \n3      9.8  \n4      9.4  ",
            "text/html": "<div>\n<style scoped>\n    .dataframe tbody tr th:only-of-type {\n        vertical-align: middle;\n    }\n\n    .dataframe tbody tr th {\n        vertical-align: top;\n    }\n\n    .dataframe thead th {\n        text-align: right;\n    }\n</style>\n<table border=\"1\" class=\"dataframe\">\n  <thead>\n    <tr style=\"text-align: right;\">\n      <th></th>\n      <th>fixed acidity</th>\n      <th>volatile acidity</th>\n      <th>citric acid</th>\n      <th>residual sugar</th>\n      <th>chlorides</th>\n      <th>free sulfur dioxide</th>\n      <th>total sulfur dioxide</th>\n      <th>density</th>\n      <th>pH</th>\n      <th>sulphates</th>\n      <th>alcohol</th>\n    </tr>\n  </thead>\n  <tbody>\n    <tr>\n      <th>0</th>\n      <td>7.4</td>\n      <td>0.70</td>\n      <td>0.00</td>\n      <td>1.9</td>\n      <td>0.076</td>\n      <td>11.0</td>\n      <td>34.0</td>\n      <td>0.9978</td>\n      <td>3.51</td>\n      <td>0.56</td>\n      <td>9.4</td>\n    </tr>\n    <tr>\n      <th>1</th>\n      <td>7.8</td>\n      <td>0.88</td>\n      <td>0.00</td>\n      <td>2.6</td>\n      <td>0.098</td>\n      <td>25.0</td>\n      <td>67.0</td>\n      <td>0.9968</td>\n      <td>3.20</td>\n      <td>0.68</td>\n      <td>9.8</td>\n    </tr>\n    <tr>\n      <th>2</th>\n      <td>7.8</td>\n      <td>0.76</td>\n      <td>0.04</td>\n      <td>2.3</td>\n      <td>0.092</td>\n      <td>15.0</td>\n      <td>54.0</td>\n      <td>0.9970</td>\n      <td>3.26</td>\n      <td>0.65</td>\n      <td>9.8</td>\n    </tr>\n    <tr>\n      <th>3</th>\n      <td>11.2</td>\n      <td>0.28</td>\n      <td>0.56</td>\n      <td>1.9</td>\n      <td>0.075</td>\n      <td>17.0</td>\n      <td>60.0</td>\n      <td>0.9980</td>\n      <td>3.16</td>\n      <td>0.58</td>\n      <td>9.8</td>\n    </tr>\n    <tr>\n      <th>4</th>\n      <td>7.4</td>\n      <td>0.70</td>\n      <td>0.00</td>\n      <td>1.9</td>\n      <td>0.076</td>\n      <td>11.0</td>\n      <td>34.0</td>\n      <td>0.9978</td>\n      <td>3.51</td>\n      <td>0.56</td>\n      <td>9.4</td>\n    </tr>\n  </tbody>\n</table>\n</div>"
          },
          "metadata": {}
        }
      ],
      "execution_count": null
    },
    {
      "cell_type": "code",
      "source": [
        "Y = wine['quality']\n",
        "Y.head()"
      ],
      "metadata": {
        "trusted": true,
        "execution": {
          "iopub.status.busy": "2025-10-01T13:21:05.560499Z",
          "iopub.execute_input": "2025-10-01T13:21:05.560775Z",
          "iopub.status.idle": "2025-10-01T13:21:05.56821Z",
          "shell.execute_reply.started": "2025-10-01T13:21:05.560755Z",
          "shell.execute_reply": "2025-10-01T13:21:05.567162Z"
        },
        "id": "6UDfchbUFTgt",
        "outputId": "be4721f1-ea13-4bc6-b57f-5fff54098537"
      },
      "outputs": [
        {
          "execution_count": 16,
          "output_type": "execute_result",
          "data": {
            "text/plain": "0    5\n1    5\n2    5\n3    6\n4    5\nName: quality, dtype: int64"
          },
          "metadata": {}
        }
      ],
      "execution_count": null
    },
    {
      "cell_type": "code",
      "source": [
        "from sklearn.model_selection import train_test_split#split dataset in training and validation data or some times test data\n",
        "X_train, X_valid , Y_train, Y_valid = train_test_split(X,Y, train_size=0.8,test_size=0.2, random_state=42,shuffle=True)"
      ],
      "metadata": {
        "trusted": true,
        "execution": {
          "iopub.status.busy": "2025-10-01T13:32:19.189232Z",
          "iopub.execute_input": "2025-10-01T13:32:19.189501Z",
          "iopub.status.idle": "2025-10-01T13:32:19.917305Z",
          "shell.execute_reply.started": "2025-10-01T13:32:19.189481Z",
          "shell.execute_reply": "2025-10-01T13:32:19.916366Z"
        },
        "id": "_3qC4vRmFTgu"
      },
      "outputs": [],
      "execution_count": null
    },
    {
      "cell_type": "code",
      "source": [
        "#X_train.shape\n",
        "Y_valid.shape"
      ],
      "metadata": {
        "trusted": true,
        "execution": {
          "iopub.status.busy": "2025-10-01T13:33:23.449461Z",
          "iopub.execute_input": "2025-10-01T13:33:23.449716Z",
          "iopub.status.idle": "2025-10-01T13:33:23.456503Z",
          "shell.execute_reply.started": "2025-10-01T13:33:23.449699Z",
          "shell.execute_reply": "2025-10-01T13:33:23.455375Z"
        },
        "id": "uRa8SeWbFTgv",
        "outputId": "8e6669e1-931e-454a-d39c-d974b9f1a1df"
      },
      "outputs": [
        {
          "execution_count": 20,
          "output_type": "execute_result",
          "data": {
            "text/plain": "(320,)"
          },
          "metadata": {}
        }
      ],
      "execution_count": null
    },
    {
      "cell_type": "code",
      "source": [
        "from tensorflow import keras\n",
        "from tensorflow.keras import layers"
      ],
      "metadata": {
        "trusted": true,
        "execution": {
          "iopub.status.busy": "2025-10-01T13:35:34.205573Z",
          "iopub.execute_input": "2025-10-01T13:35:34.206536Z",
          "iopub.status.idle": "2025-10-01T13:35:51.771905Z",
          "shell.execute_reply.started": "2025-10-01T13:35:34.206502Z",
          "shell.execute_reply": "2025-10-01T13:35:51.770968Z"
        },
        "id": "bS8lMYOvFTgw",
        "outputId": "04b1126d-c4d8-4372-fb01-d66a0b10a0a6"
      },
      "outputs": [
        {
          "name": "stderr",
          "text": "2025-10-01 13:35:36.043434: E external/local_xla/xla/stream_executor/cuda/cuda_fft.cc:477] Unable to register cuFFT factory: Attempting to register factory for plugin cuFFT when one has already been registered\nWARNING: All log messages before absl::InitializeLog() is called are written to STDERR\nE0000 00:00:1759325736.289536      36 cuda_dnn.cc:8310] Unable to register cuDNN factory: Attempting to register factory for plugin cuDNN when one has already been registered\nE0000 00:00:1759325736.361109      36 cuda_blas.cc:1418] Unable to register cuBLAS factory: Attempting to register factory for plugin cuBLAS when one has already been registered\n",
          "output_type": "stream"
        }
      ],
      "execution_count": null
    },
    {
      "cell_type": "code",
      "source": [
        "model = keras.Sequential({\n",
        "    layers.Dense(units=32, activation='relu', input_shape=[11]),\n",
        "    layers.Dense(units=64, activation='relu'),\n",
        "    layers.Dense(units=128, activation='relu'),\n",
        "    layers.Dense(units=1),\n",
        "})"
      ],
      "metadata": {
        "trusted": true,
        "execution": {
          "iopub.status.busy": "2025-10-01T13:53:42.455093Z",
          "iopub.execute_input": "2025-10-01T13:53:42.455372Z",
          "iopub.status.idle": "2025-10-01T13:53:42.464063Z",
          "shell.execute_reply.started": "2025-10-01T13:53:42.455352Z",
          "shell.execute_reply": "2025-10-01T13:53:42.462855Z"
        },
        "id": "c8oCh7tLFTgx"
      },
      "outputs": [],
      "execution_count": null
    },
    {
      "cell_type": "code",
      "source": [
        "model.compile(\n",
        "    loss='mae',\n",
        "    optimizer='adam',\n",
        "    metrics=['accuracy'],\n",
        ")"
      ],
      "metadata": {
        "trusted": true,
        "execution": {
          "iopub.status.busy": "2025-10-01T13:57:25.884076Z",
          "iopub.execute_input": "2025-10-01T13:57:25.88435Z",
          "iopub.status.idle": "2025-10-01T13:57:25.89674Z",
          "shell.execute_reply.started": "2025-10-01T13:57:25.884331Z",
          "shell.execute_reply": "2025-10-01T13:57:25.895371Z"
        },
        "id": "s8yEgJx2FTgx"
      },
      "outputs": [],
      "execution_count": null
    },
    {
      "cell_type": "code",
      "source": [
        "history = model.fit(\n",
        "    X_train,Y_train,\n",
        "    validation_data = (X_valid, Y_valid),\n",
        "    batch_size=32,\n",
        "    epochs=10\n",
        "    )"
      ],
      "metadata": {
        "trusted": true,
        "execution": {
          "iopub.status.busy": "2025-10-01T14:01:05.05471Z",
          "iopub.execute_input": "2025-10-01T14:01:05.055044Z",
          "iopub.status.idle": "2025-10-01T14:01:07.045068Z",
          "shell.execute_reply.started": "2025-10-01T14:01:05.055018Z",
          "shell.execute_reply": "2025-10-01T14:01:07.044293Z"
        },
        "id": "mHSZ14mRFTgy",
        "outputId": "e5b6d96e-55f6-4338-f708-734604bf9b8e"
      },
      "outputs": [
        {
          "name": "stdout",
          "text": "Epoch 1/10\n\u001b[1m40/40\u001b[0m \u001b[32m━━━━━━━━━━━━━━━━━━━━\u001b[0m\u001b[37m\u001b[0m \u001b[1m0s\u001b[0m 5ms/step - accuracy: 0.0245 - loss: 1.8989 - val_accuracy: 0.0031 - val_loss: 1.9043\nEpoch 2/10\n\u001b[1m40/40\u001b[0m \u001b[32m━━━━━━━━━━━━━━━━━━━━\u001b[0m\u001b[37m\u001b[0m \u001b[1m0s\u001b[0m 4ms/step - accuracy: 0.0540 - loss: 1.8630 - val_accuracy: 0.0688 - val_loss: 1.8789\nEpoch 3/10\n\u001b[1m40/40\u001b[0m \u001b[32m━━━━━━━━━━━━━━━━━━━━\u001b[0m\u001b[37m\u001b[0m \u001b[1m0s\u001b[0m 4ms/step - accuracy: 0.0134 - loss: 1.8822 - val_accuracy: 0.0469 - val_loss: 1.8963\nEpoch 4/10\n\u001b[1m40/40\u001b[0m \u001b[32m━━━━━━━━━━━━━━━━━━━━\u001b[0m\u001b[37m\u001b[0m \u001b[1m0s\u001b[0m 4ms/step - accuracy: 0.0093 - loss: 1.8610 - val_accuracy: 0.0000e+00 - val_loss: 1.8753\nEpoch 5/10\n\u001b[1m40/40\u001b[0m \u001b[32m━━━━━━━━━━━━━━━━━━━━\u001b[0m\u001b[37m\u001b[0m \u001b[1m0s\u001b[0m 4ms/step - accuracy: 0.0080 - loss: 1.8561 - val_accuracy: 0.0000e+00 - val_loss: 1.8682\nEpoch 6/10\n\u001b[1m40/40\u001b[0m \u001b[32m━━━━━━━━━━━━━━━━━━━━\u001b[0m\u001b[37m\u001b[0m \u001b[1m0s\u001b[0m 4ms/step - accuracy: 0.0132 - loss: 1.8500 - val_accuracy: 0.0000e+00 - val_loss: 1.8779\nEpoch 7/10\n\u001b[1m40/40\u001b[0m \u001b[32m━━━━━━━━━━━━━━━━━━━━\u001b[0m\u001b[37m\u001b[0m \u001b[1m0s\u001b[0m 4ms/step - accuracy: 0.0217 - loss: 1.8540 - val_accuracy: 0.0000e+00 - val_loss: 1.8723\nEpoch 8/10\n\u001b[1m40/40\u001b[0m \u001b[32m━━━━━━━━━━━━━━━━━━━━\u001b[0m\u001b[37m\u001b[0m \u001b[1m0s\u001b[0m 4ms/step - accuracy: 0.0318 - loss: 1.8359 - val_accuracy: 0.0031 - val_loss: 1.8986\nEpoch 9/10\n\u001b[1m40/40\u001b[0m \u001b[32m━━━━━━━━━━━━━━━━━━━━\u001b[0m\u001b[37m\u001b[0m \u001b[1m0s\u001b[0m 4ms/step - accuracy: 0.0124 - loss: 1.8764 - val_accuracy: 0.0875 - val_loss: 1.8641\nEpoch 10/10\n\u001b[1m40/40\u001b[0m \u001b[32m━━━━━━━━━━━━━━━━━━━━\u001b[0m\u001b[37m\u001b[0m \u001b[1m0s\u001b[0m 4ms/step - accuracy: 0.0299 - loss: 1.8619 - val_accuracy: 0.0000e+00 - val_loss: 1.8672\n",
          "output_type": "stream"
        }
      ],
      "execution_count": null
    },
    {
      "cell_type": "code",
      "source": [],
      "metadata": {
        "trusted": true,
        "id": "jbCMV65QFTgz"
      },
      "outputs": [],
      "execution_count": null
    }
  ]
}